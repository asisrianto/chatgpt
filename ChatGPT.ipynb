{
  "nbformat": 4,
  "nbformat_minor": 0,
  "metadata": {
    "colab": {
      "provenance": []
    },
    "kernelspec": {
      "name": "python3",
      "display_name": "Python 3"
    },
    "language_info": {
      "name": "python"
    }
  },
  "cells": [
    {
      "cell_type": "code",
      "execution_count": 1,
      "metadata": {
        "id": "Y-9U5kjUyq7O"
      },
      "outputs": [],
      "source": [
        "# !pip install requests"
      ]
    },
    {
      "cell_type": "code",
      "source": [
        "import requests"
      ],
      "metadata": {
        "id": "LjcuKj1eyypS"
      },
      "execution_count": 2,
      "outputs": []
    },
    {
      "cell_type": "code",
      "source": [
        "def chatGPT(text):\n",
        "  url = \"https://api.openai.com/v1/completions\"\n",
        "  headers = {\n",
        "      \"Content-Type\": \"application/json\",\n",
        "      \"Authorization\": \"Bearer YOUR-API-KEY\",\n",
        "  }\n",
        "  data = {\n",
        "      \"model\": \"text-davinci-003\",\n",
        "      \"prompt\": text,\n",
        "      \"max_tokens\": 4000,\n",
        "      \"temperature\": 1.0,\n",
        "  }\n",
        "  response = requests.post(url, headers=headers, json=data)\n",
        "  output = response.json()['choices'][0]['text']\n",
        "\n",
        "  return print(output)"
      ],
      "metadata": {
        "id": "wE-8SFpny7um"
      },
      "execution_count": 3,
      "outputs": []
    },
    {
      "cell_type": "code",
      "source": [
        "chatGPT('Generate a romantic song ever for my crush')"
      ],
      "metadata": {
        "colab": {
          "base_uri": "https://localhost:8080/"
        },
        "id": "_oFhX1JdrM8M",
        "outputId": "96b5e7c8-dd1a-4e1a-a4bb-1ec9a7e8500e"
      },
      "execution_count": 4,
      "outputs": [
        {
          "output_type": "stream",
          "name": "stdout",
          "text": [
            "\n",
            "\n",
            "Verse 1\n",
            "My heart beats faster each time that I see you\n",
            "You make me so happy and I don't know what to do\n",
            "I try to keep it together, but all I can think about is\n",
            "Being in your loving arms, never letting you go\n",
            "\n",
            "Chorus\n",
            "Your love is all I need, I never want it to end\n",
            "When I'm near you, I feel like I'm spinning in a dream\n",
            "These stars are just burning brighter, when I look into your eyes\n",
            "'Cause I know that they'll always show me the way\n",
            "\n",
            "Verse 2\n",
            "Want to show you the things I can never say out loud\n",
            "My emotions can no longer be withheld\n",
            "Dancing in the rain, that's when I'll whisper\n",
            "My love for you will last forever, hear me now\n",
            "\n",
            "Chorus\n",
            "Your love is all I need, I never want it to end\n",
            "When I'm near you, I feel like I'm spinning in a dream\n",
            "These stars are just burning brighter, when I look into your eyes\n",
            "'Cause I know that they'll always show me the way\n",
            "\n",
            "Bridge\n",
            "I want to be with you; want to show you love\n",
            "My heart is yours, and it will rise above\n",
            "The world around us, can never change our fate\n",
            "My love for you is written on every page\n",
            "\n",
            "Chorus\n",
            "Your love is all I need, I never want it to end\n",
            "When I'm near you, I feel like I'm spinning in a dream\n",
            "These stars are just burning brighter, when I look into your eyes\n",
            "'Cause I know that they'll always show me the way\n"
          ]
        }
      ]
    },
    {
      "cell_type": "code",
      "source": [],
      "metadata": {
        "id": "MkVmenbSr9zx"
      },
      "execution_count": 4,
      "outputs": []
    }
  ]
}